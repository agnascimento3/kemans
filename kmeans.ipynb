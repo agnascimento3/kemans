{
 "cells": [
  {
   "cell_type": "code",
   "execution_count": null,
   "metadata": {},
   "outputs": [],
   "source": [
    "%matplotlib inline\n",
    "import matplotlib.pyplot as plt\n",
    "import seaborn as sns; sns.set()  # for plot styling\n",
    "import numpy as np\n",
    "from sklearn.datasets import make_blobs\n",
    "from sklearn.cluster import KMeans\n",
    "\n",
    "# Gerando o dataset com 3000 amostras e desvio-padrão de 0.9\n",
    "X, y_true = make_blobs(n_samples=3000, centers=5, cluster_std=0.9, random_state=42)\n",
    "\n",
    "# Visualizando os dados gerados\n",
    "plt.figure(figsize=(10, 5))\n",
    "plt.scatter(X[:, 0], X[:, 1], s=50, cmap='viridis')\n",
    "plt.title(\"Dados Gerados com 3000 amostras e desvio-padrão de 0.9\")\n",
    "plt.xlabel(\"Feature 1\")\n",
    "plt.ylabel(\"Feature 2\")\n",
    "plt.show()\n",
    "\n",
    "# Treinando o K-Means com 5 clusters\n",
    "kmeans_5 = KMeans(n_clusters=5, random_state=42)\n",
    "kmeans_5.fit(X)\n",
    "y_kmeans_5 = kmeans_5.predict(X)\n",
    "\n",
    "# Visualizando o resultado da clusterização com 5 clusters\n",
    "plt.figure(figsize=(10, 5))\n",
    "plt.scatter(X[:, 0], X[:, 1], c=y_kmeans_5, s=50, cmap='viridis')\n",
    "centers_5 = kmeans_5.cluster_centers_\n",
    "plt.scatter(centers_5[:, 0], centers_5[:, 1], c='black', s=200, alpha=0.5)\n",
    "plt.title(\"Clusterização com 5 Clusters\")\n",
    "plt.xlabel(\"Feature 1\")\n",
    "plt.ylabel(\"Feature 2\")\n",
    "plt.show()\n",
    "\n",
    "# Treinando o K-Means com 8 clusters\n",
    "kmeans_8 = KMeans(n_clusters=8, random_state=42)\n",
    "kmeans_8.fit(X)\n",
    "y_kmeans_8 = kmeans_8.predict(X)\n",
    "\n",
    "# Visualizando o resultado da clusterização com 8 clusters\n",
    "plt.figure(figsize=(10, 5))\n",
    "plt.scatter(X[:, 0], X[:, 1], c=y_kmeans_8, s=50, cmap='viridis')\n",
    "centers_8 = kmeans_8.cluster_centers_\n",
    "plt.scatter(centers_8[:, 0], centers_8[:, 1], c='black', s=200, alpha=0.5)\n",
    "plt.title(\"Clusterização com 8 Clusters\")\n",
    "plt.xlabel(\"Feature 1\")\n",
    "plt.ylabel(\"Feature 2\")\n",
    "plt.show()\n"
   ]
  }
 ],
 "metadata": {
  "language_info": {
   "name": "python"
  },
  "orig_nbformat": 4
 },
 "nbformat": 4,
 "nbformat_minor": 2
}
